{
 "cells": [
  {
   "attachments": {},
   "cell_type": "markdown",
   "metadata": {},
   "source": [
    "# GIT\n",
    "https://git-scm.com/\n",
    "\n",
    "basic command:\n",
    "\n",
    "\n",
    "**innitiate git** \n",
    "\n",
    "- git init\n",
    "\n",
    "**show remote repository**\n",
    "\n",
    "- git remote -v\n",
    "\n",
    "**link current dir with remote repo**\n",
    "\n",
    "- git remote add {remote name} {branch name}\n",
    "\n",
    "**clone file from git repo**\n",
    "\n",
    "- git clone {git url repository}\n",
    "\n",
    "**add file to git or staging**\n",
    "\n",
    "- git add {file name}\n",
    "\n",
    "**commit change**\n",
    "\n",
    "- git commit -am \"comment\"\n",
    "\n",
    "**push repo**\n",
    "- git push {remote name} {branch}\n",
    "\n",
    "**pull from repo**\n",
    "\n",
    "- git pull {remote name} {branch}\n",
    "\n",
    "**check file staging status**\n",
    "\n",
    "- git status\n",
    "\n",
    "**view logs**\n",
    "\n",
    "- git log\n",
    "\n",
    "**show branch**\n",
    "\n",
    "- git branch\n",
    "\n",
    "**undo change or checge branch**\n",
    "\n",
    "- git checkout {file name or branch name}\n",
    "\n",
    "**create branch**\n",
    "\n",
    "- git checkout -b {branch name} \n",
    "\n",
    "\n",
    "**gitinore**\n",
    "\n",
    "- create gitignore file to ignore specific files or extension from git\n"
   ]
  },
  {
   "attachments": {},
   "cell_type": "markdown",
   "metadata": {},
   "source": [
    "# Python"
   ]
  },
  {
   "cell_type": "code",
   "execution_count": 9,
   "metadata": {},
   "outputs": [],
   "source": [
    "class BadBot:\n",
    "    def __init__(self, id: str, name: str):\n",
    "        self.id = id\n",
    "        self.name = name\n",
    "        \n",
    "    def __repr__(self):\n",
    "        return f\"{self.__class__.__name__}(id={self.id}, name={self.name})\"\n",
    "    \n",
    "    def hello(self, text):\n",
    "        print(text)\n",
    "        return text"
   ]
  },
  {
   "cell_type": "code",
   "execution_count": 11,
   "metadata": {},
   "outputs": [
    {
     "name": "stdout",
     "output_type": "stream",
     "text": [
      "hi\n"
     ]
    },
    {
     "data": {
      "text/plain": [
       "'hi'"
      ]
     },
     "execution_count": 11,
     "metadata": {},
     "output_type": "execute_result"
    }
   ],
   "source": [
    "siri = BadBot(id = \"1\", name = \"siri\")\n",
    "siri.hello(\"hi\")"
   ]
  },
  {
   "cell_type": "code",
   "execution_count": 12,
   "metadata": {},
   "outputs": [],
   "source": [
    "string = \"aa\""
   ]
  },
  {
   "cell_type": "code",
   "execution_count": 13,
   "metadata": {},
   "outputs": [
    {
     "data": {
      "text/plain": [
       "'aa'"
      ]
     },
     "execution_count": 13,
     "metadata": {},
     "output_type": "execute_result"
    }
   ],
   "source": [
    "string"
   ]
  },
  {
   "cell_type": "code",
   "execution_count": 102,
   "metadata": {},
   "outputs": [
    {
     "name": "stdout",
     "output_type": "stream",
     "text": [
      "BadBot(id=1, name=siri)\n",
      "BadBot(id=1, name=cortena)\n"
     ]
    }
   ],
   "source": [
    "siri = BadBot(id=1, name=\"siri\")\n",
    "print(siri)\n",
    "\n",
    "siri.name = \"cortena\"\n",
    "print(siri)"
   ]
  },
  {
   "cell_type": "code",
   "execution_count": null,
   "metadata": {},
   "outputs": [],
   "source": []
  },
  {
   "cell_type": "code",
   "execution_count": 19,
   "metadata": {},
   "outputs": [
    {
     "name": "stdout",
     "output_type": "stream",
     "text": [
      "a\n",
      "1\n"
     ]
    }
   ],
   "source": [
    "string = \"a\"\n",
    "print(string)\n",
    "string = 1\n",
    "print(string)\n",
    "\n",
    "\n",
    "def people(name: str, lastname: str) -> str:\n",
    "    print(name + lastname)\n",
    "    print(f\"{name}{lastname}\")"
   ]
  },
  {
   "cell_type": "code",
   "execution_count": null,
   "metadata": {},
   "outputs": [],
   "source": []
  },
  {
   "cell_type": "code",
   "execution_count": 97,
   "metadata": {},
   "outputs": [],
   "source": [
    "from dataclasses import field, dataclass\n",
    "\n",
    "@dataclass()\n",
    "class GoodBot:\n",
    "    name: str\n",
    "    _id: int = field(repr=False, init=False)\n",
    "    def __post_init__(self):\n",
    "        self._id = 2"
   ]
  },
  {
   "cell_type": "code",
   "execution_count": 99,
   "metadata": {},
   "outputs": [
    {
     "data": {
      "text/plain": [
       "GoodBot(name='gpt4')"
      ]
     },
     "execution_count": 99,
     "metadata": {},
     "output_type": "execute_result"
    }
   ],
   "source": [
    "gpt = GoodBot(name=\"gpt4\")\n",
    "gpt"
   ]
  },
  {
   "cell_type": "code",
   "execution_count": 74,
   "metadata": {},
   "outputs": [
    {
     "data": {
      "text/plain": [
       "[('__init__', <function __main__.Pet.__init__(self, type: str, name: str)>),\n",
       " ('__str__', <function __main__.Pet.__str__(self)>)]"
      ]
     },
     "execution_count": 74,
     "metadata": {},
     "output_type": "execute_result"
    }
   ],
   "source": [
    "# import inspect\n",
    "# inspect.getmembers(Pet, inspect.isfunction)"
   ]
  }
 ],
 "metadata": {
  "kernelspec": {
   "display_name": "Python 3",
   "language": "python",
   "name": "python3"
  },
  "language_info": {
   "codemirror_mode": {
    "name": "ipython",
    "version": 3
   },
   "file_extension": ".py",
   "mimetype": "text/x-python",
   "name": "python",
   "nbconvert_exporter": "python",
   "pygments_lexer": "ipython3",
   "version": "3.8.5"
  },
  "orig_nbformat": 4
 },
 "nbformat": 4,
 "nbformat_minor": 2
}
